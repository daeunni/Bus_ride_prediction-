{
  "nbformat": 4,
  "nbformat_minor": 0,
  "metadata": {
    "colab": {
      "name": "20.08.18 최종정리.ipynb",
      "provenance": [],
      "collapsed_sections": [],
      "machine_shape": "hm"
    },
    "kernelspec": {
      "name": "python3",
      "display_name": "Python 3"
    },
    "widgets": {
      "application/vnd.jupyter.widget-state+json": {
        "24911704456a4100baf0f115c0ed9fa5": {
          "model_module": "@jupyter-widgets/controls",
          "model_name": "HBoxModel",
          "state": {
            "_view_name": "HBoxView",
            "_dom_classes": [],
            "_model_name": "HBoxModel",
            "_view_module": "@jupyter-widgets/controls",
            "_model_module_version": "1.5.0",
            "_view_count": null,
            "_view_module_version": "1.5.0",
            "box_style": "",
            "layout": "IPY_MODEL_e1b6764f04f14c8597662c935b01f0eb",
            "_model_module": "@jupyter-widgets/controls",
            "children": [
              "IPY_MODEL_a5487ab369c04fb790f0f56afe5cb446",
              "IPY_MODEL_0bc9a2be07634793ba97a2fad74f8042"
            ]
          }
        },
        "e1b6764f04f14c8597662c935b01f0eb": {
          "model_module": "@jupyter-widgets/base",
          "model_name": "LayoutModel",
          "state": {
            "_view_name": "LayoutView",
            "grid_template_rows": null,
            "right": null,
            "justify_content": null,
            "_view_module": "@jupyter-widgets/base",
            "overflow": null,
            "_model_module_version": "1.2.0",
            "_view_count": null,
            "flex_flow": null,
            "width": null,
            "min_width": null,
            "border": null,
            "align_items": null,
            "bottom": null,
            "_model_module": "@jupyter-widgets/base",
            "top": null,
            "grid_column": null,
            "overflow_y": null,
            "overflow_x": null,
            "grid_auto_flow": null,
            "grid_area": null,
            "grid_template_columns": null,
            "flex": null,
            "_model_name": "LayoutModel",
            "justify_items": null,
            "grid_row": null,
            "max_height": null,
            "align_content": null,
            "visibility": null,
            "align_self": null,
            "height": null,
            "min_height": null,
            "padding": null,
            "grid_auto_rows": null,
            "grid_gap": null,
            "max_width": null,
            "order": null,
            "_view_module_version": "1.2.0",
            "grid_template_areas": null,
            "object_position": null,
            "object_fit": null,
            "grid_auto_columns": null,
            "margin": null,
            "display": null,
            "left": null
          }
        },
        "a5487ab369c04fb790f0f56afe5cb446": {
          "model_module": "@jupyter-widgets/controls",
          "model_name": "FloatProgressModel",
          "state": {
            "_view_name": "ProgressView",
            "style": "IPY_MODEL_697bc4bfdd294163b2a610a8738f0ba7",
            "_dom_classes": [],
            "description": "100%",
            "_model_name": "FloatProgressModel",
            "bar_style": "success",
            "max": 4,
            "_view_module": "@jupyter-widgets/controls",
            "_model_module_version": "1.5.0",
            "value": 4,
            "_view_count": null,
            "_view_module_version": "1.5.0",
            "orientation": "horizontal",
            "min": 0,
            "description_tooltip": null,
            "_model_module": "@jupyter-widgets/controls",
            "layout": "IPY_MODEL_0173cb247f58402e861ec47887ec9ec1"
          }
        },
        "0bc9a2be07634793ba97a2fad74f8042": {
          "model_module": "@jupyter-widgets/controls",
          "model_name": "HTMLModel",
          "state": {
            "_view_name": "HTMLView",
            "style": "IPY_MODEL_0bd09c98160b4271bf461d607df652bd",
            "_dom_classes": [],
            "description": "",
            "_model_name": "HTMLModel",
            "placeholder": "​",
            "_view_module": "@jupyter-widgets/controls",
            "_model_module_version": "1.5.0",
            "value": " 4/4 [02:16&lt;00:00, 34.12s/it]",
            "_view_count": null,
            "_view_module_version": "1.5.0",
            "description_tooltip": null,
            "_model_module": "@jupyter-widgets/controls",
            "layout": "IPY_MODEL_25f0ff803ec94cc8879f4260d2db5df2"
          }
        },
        "697bc4bfdd294163b2a610a8738f0ba7": {
          "model_module": "@jupyter-widgets/controls",
          "model_name": "ProgressStyleModel",
          "state": {
            "_view_name": "StyleView",
            "_model_name": "ProgressStyleModel",
            "description_width": "initial",
            "_view_module": "@jupyter-widgets/base",
            "_model_module_version": "1.5.0",
            "_view_count": null,
            "_view_module_version": "1.2.0",
            "bar_color": null,
            "_model_module": "@jupyter-widgets/controls"
          }
        },
        "0173cb247f58402e861ec47887ec9ec1": {
          "model_module": "@jupyter-widgets/base",
          "model_name": "LayoutModel",
          "state": {
            "_view_name": "LayoutView",
            "grid_template_rows": null,
            "right": null,
            "justify_content": null,
            "_view_module": "@jupyter-widgets/base",
            "overflow": null,
            "_model_module_version": "1.2.0",
            "_view_count": null,
            "flex_flow": null,
            "width": null,
            "min_width": null,
            "border": null,
            "align_items": null,
            "bottom": null,
            "_model_module": "@jupyter-widgets/base",
            "top": null,
            "grid_column": null,
            "overflow_y": null,
            "overflow_x": null,
            "grid_auto_flow": null,
            "grid_area": null,
            "grid_template_columns": null,
            "flex": null,
            "_model_name": "LayoutModel",
            "justify_items": null,
            "grid_row": null,
            "max_height": null,
            "align_content": null,
            "visibility": null,
            "align_self": null,
            "height": null,
            "min_height": null,
            "padding": null,
            "grid_auto_rows": null,
            "grid_gap": null,
            "max_width": null,
            "order": null,
            "_view_module_version": "1.2.0",
            "grid_template_areas": null,
            "object_position": null,
            "object_fit": null,
            "grid_auto_columns": null,
            "margin": null,
            "display": null,
            "left": null
          }
        },
        "0bd09c98160b4271bf461d607df652bd": {
          "model_module": "@jupyter-widgets/controls",
          "model_name": "DescriptionStyleModel",
          "state": {
            "_view_name": "StyleView",
            "_model_name": "DescriptionStyleModel",
            "description_width": "",
            "_view_module": "@jupyter-widgets/base",
            "_model_module_version": "1.5.0",
            "_view_count": null,
            "_view_module_version": "1.2.0",
            "_model_module": "@jupyter-widgets/controls"
          }
        },
        "25f0ff803ec94cc8879f4260d2db5df2": {
          "model_module": "@jupyter-widgets/base",
          "model_name": "LayoutModel",
          "state": {
            "_view_name": "LayoutView",
            "grid_template_rows": null,
            "right": null,
            "justify_content": null,
            "_view_module": "@jupyter-widgets/base",
            "overflow": null,
            "_model_module_version": "1.2.0",
            "_view_count": null,
            "flex_flow": null,
            "width": null,
            "min_width": null,
            "border": null,
            "align_items": null,
            "bottom": null,
            "_model_module": "@jupyter-widgets/base",
            "top": null,
            "grid_column": null,
            "overflow_y": null,
            "overflow_x": null,
            "grid_auto_flow": null,
            "grid_area": null,
            "grid_template_columns": null,
            "flex": null,
            "_model_name": "LayoutModel",
            "justify_items": null,
            "grid_row": null,
            "max_height": null,
            "align_content": null,
            "visibility": null,
            "align_self": null,
            "height": null,
            "min_height": null,
            "padding": null,
            "grid_auto_rows": null,
            "grid_gap": null,
            "max_width": null,
            "order": null,
            "_view_module_version": "1.2.0",
            "grid_template_areas": null,
            "object_position": null,
            "object_fit": null,
            "grid_auto_columns": null,
            "margin": null,
            "display": null,
            "left": null
          }
        }
      }
    }
  },
  "cells": [
    {
      "cell_type": "markdown",
      "metadata": {
        "id": "XEEcF02icxVY",
        "colab_type": "text"
      },
      "source": [
        "# **Dacon 퇴근시간 버스 승차인원 예측**\n",
        "[ 20.7.30 ~ 20.8.19 ]\n",
        "\n",
        "## < Feature Engineering >\n",
        "1. LabelEncoding\n",
        "2. Groupby\n",
        "3. Date info\n",
        "4. Weather info\n",
        "5. Lat, long distance\n",
        "6. Bts bus\n",
        "7. K-means + groupby\n",
        "8. PCA\n",
        "9. Airport info "
      ]
    },
    {
      "cell_type": "code",
      "metadata": {
        "id": "nz-Gxtl1PHjT",
        "colab_type": "code",
        "colab": {
          "base_uri": "https://localhost:8080/",
          "height": 72
        },
        "outputId": "eb1393a3-fd57-495a-8534-d02dbdd6b0b8"
      },
      "source": [
        "import pandas as pd\n",
        "import numpy as np\n",
        "\n",
        "import matplotlib.pyplot as plt\n",
        "%matplotlib inline\n",
        "import seaborn as sns\n",
        "\n",
        "import os, random, time, gc, warnings\n",
        "warnings.filterwarnings('ignore')\n",
        "\n",
        "from tqdm import tqdm_notebook\n",
        "\n",
        "import lightgbm as lgbm\n",
        "from sklearn.preprocessing import LabelEncoder\n",
        "from sklearn.model_selection import KFold, StratifiedKFold\n",
        "from sklearn.metrics import mean_squared_error\n",
        "\n",
        "from sklearn.cluster import KMeans\n",
        "from datetime import datetime\n",
        "\n",
        "import folium\n",
        "from folium import Marker, Icon, CircleMarker\n",
        "\n",
        "pd.set_option('max_columns', 500)\n",
        "pd.set_option('max_rows', 500)"
      ],
      "execution_count": 1,
      "outputs": [
        {
          "output_type": "stream",
          "text": [
            "/usr/local/lib/python3.6/dist-packages/statsmodels/tools/_testing.py:19: FutureWarning: pandas.util.testing is deprecated. Use the functions in the public API at pandas.testing instead.\n",
            "  import pandas.util.testing as tm\n"
          ],
          "name": "stderr"
        }
      ]
    },
    {
      "cell_type": "code",
      "metadata": {
        "id": "W1fOj9jMPXhY",
        "colab_type": "code",
        "colab": {
          "base_uri": "https://localhost:8080/",
          "height": 126
        },
        "outputId": "439f139f-51eb-45e2-91a5-5ec8202d42cd"
      },
      "source": [
        "from google.colab import drive\n",
        "drive.mount('/content/drive')"
      ],
      "execution_count": 2,
      "outputs": [
        {
          "output_type": "stream",
          "text": [
            "Go to this URL in a browser: https://accounts.google.com/o/oauth2/auth?client_id=947318989803-6bn6qk8qdgf4n4g3pfee6491hc0brc4i.apps.googleusercontent.com&redirect_uri=urn%3aietf%3awg%3aoauth%3a2.0%3aoob&scope=email%20https%3a%2f%2fwww.googleapis.com%2fauth%2fdocs.test%20https%3a%2f%2fwww.googleapis.com%2fauth%2fdrive%20https%3a%2f%2fwww.googleapis.com%2fauth%2fdrive.photos.readonly%20https%3a%2f%2fwww.googleapis.com%2fauth%2fpeopleapi.readonly&response_type=code\n",
            "\n",
            "Enter your authorization code:\n",
            "··········\n",
            "Mounted at /content/drive\n"
          ],
          "name": "stdout"
        }
      ]
    },
    {
      "cell_type": "code",
      "metadata": {
        "id": "xmxURmVuPXfc",
        "colab_type": "code",
        "colab": {}
      },
      "source": [
        "train = pd.read_csv('/content/drive/My Drive/Colab Notebooks/버스 승차인원 예측/data/train.csv')\n",
        "test = pd.read_csv('/content/drive/My Drive/Colab Notebooks/버스 승차인원 예측/data/test.csv')\n",
        "df_bus = pd.read_csv('/content/drive/My Drive/Colab Notebooks/버스 승차인원 예측/data/bus_bts.csv')\n",
        "bus_interval = pd.read_csv(\"/content/drive/My Drive/Colab Notebooks/버스 승차인원 예측/data/bus_interval_final.csv\")"
      ],
      "execution_count": 4,
      "outputs": []
    },
    {
      "cell_type": "code",
      "metadata": {
        "id": "ZU4OlCgAYy3C",
        "colab_type": "code",
        "colab": {}
      },
      "source": [
        "# 배차간격 정보 합치기(따로 만듦)\n",
        "train['is_test'] = 0\n",
        "test['is_test'] = 1\n",
        "data = pd.concat([train, test])\n",
        "data['bus_route_id'] = data['bus_route_id'].astype(np.int64)\n",
        "data = pd.merge(data, bus_interval, how = 'left', on = 'bus_route_id')\n",
        "data['bus_interval'] = data['bus_interval'].fillna(9999)"
      ],
      "execution_count": 5,
      "outputs": []
    },
    {
      "cell_type": "code",
      "metadata": {
        "id": "zgDWbnnhZSH3",
        "colab_type": "code",
        "colab": {}
      },
      "source": [
        "train = data.query('is_test==0')\n",
        "test = data.query('is_test==1')"
      ],
      "execution_count": 6,
      "outputs": []
    },
    {
      "cell_type": "markdown",
      "metadata": {
        "id": "Im0NSzOOULjr",
        "colab_type": "text"
      },
      "source": [
        "## 1. 라벨인코딩"
      ]
    },
    {
      "cell_type": "code",
      "metadata": {
        "id": "x23u1Mc8PXd2",
        "colab_type": "code",
        "colab": {
          "base_uri": "https://localhost:8080/",
          "height": 67,
          "referenced_widgets": [
            "24911704456a4100baf0f115c0ed9fa5",
            "e1b6764f04f14c8597662c935b01f0eb",
            "a5487ab369c04fb790f0f56afe5cb446",
            "0bc9a2be07634793ba97a2fad74f8042",
            "697bc4bfdd294163b2a610a8738f0ba7",
            "0173cb247f58402e861ec47887ec9ec1",
            "0bd09c98160b4271bf461d607df652bd",
            "25f0ff803ec94cc8879f4260d2db5df2"
          ]
        },
        "outputId": "7ba4bef4-1817-4410-dadb-0ff10ad53d4d"
      },
      "source": [
        "# 라벨 인코딩\n",
        "target_col = '18~20_ride'\n",
        "train_label = train[target_col]\n",
        "\n",
        "lbl = LabelEncoder()\n",
        "\n",
        "# Implement Label Encoding \n",
        "cat_cols = ['bus_route_id','in_out','station_code','station_name']\n",
        "for col in tqdm_notebook( cat_cols ):\n",
        "    \n",
        "    # Label-Encoding을 fitting함\n",
        "    lbl.fit( train[[col]].append(test[[col]]) )\n",
        "    \n",
        "    # train/test label_encoding한 값을 대입함\n",
        "    train[col] = lbl.transform(train[col])\n",
        "    test[col] = lbl.transform(test[col])"
      ],
      "execution_count": 7,
      "outputs": [
        {
          "output_type": "display_data",
          "data": {
            "application/vnd.jupyter.widget-view+json": {
              "model_id": "24911704456a4100baf0f115c0ed9fa5",
              "version_minor": 0,
              "version_major": 2
            },
            "text/plain": [
              "HBox(children=(FloatProgress(value=0.0, max=4.0), HTML(value='')))"
            ]
          },
          "metadata": {
            "tags": []
          }
        },
        {
          "output_type": "stream",
          "text": [
            "\n"
          ],
          "name": "stdout"
        }
      ]
    },
    {
      "cell_type": "markdown",
      "metadata": {
        "id": "xR4HNchNUJDr",
        "colab_type": "text"
      },
      "source": [
        "## 2. 승하차 groupby 관련"
      ]
    },
    {
      "cell_type": "code",
      "metadata": {
        "id": "sPpkhWxqRPWB",
        "colab_type": "code",
        "colab": {}
      },
      "source": [
        "# 승하차 간격을 2시간 간격으로 설정(예측해야 하는 18~20ride가 두시간이기 때문에)\n",
        "dawn_ride_cols, dawn_takoff_cols = ['6~7_ride','7~8_ride'], ['6~7_takeoff','7~8_takeoff']\n",
        "morning_ride_cols, morning_takeoff_cols = ['8~9_ride','9~10_ride'], ['8~9_takeoff','9~10_takeoff']\n",
        "noon_ride_cols, noon_takeoff_cols = ['10~11_ride','11~12_ride'], ['10~11_takeoff','11~12_takeoff']\n",
        "\n",
        "# 새벽, 오전, 점심 승차량 함수\n",
        "def f(df):\n",
        "    # ride columns\n",
        "    df['dawn_ride'] = df[dawn_ride_cols].sum(axis=1)\n",
        "    df['morning_ride'] = df[morning_ride_cols].sum(axis=1)\n",
        "    df['noon_ride'] = df[noon_ride_cols].sum(axis=1)\n",
        "    \n",
        "    # takeoff columns\n",
        "    df['dawn_takeoff'] = df[dawn_takoff_cols].sum(axis=1)\n",
        "    df['morning_takeoff'] = df[morning_takeoff_cols].sum(axis=1)\n",
        "    df['noon_takeoff'] = df[noon_takeoff_cols].sum(axis=1)\n",
        "    \n",
        "    # drop columns\n",
        "    drop_cols = dawn_ride_cols + morning_ride_cols + noon_ride_cols + dawn_takoff_cols + morning_takeoff_cols + noon_takeoff_cols\n",
        "    df = df.drop(drop_cols, 1)\n",
        "    return df\n",
        "\n",
        "train = f(train)\n",
        "test = f(test)"
      ],
      "execution_count": 8,
      "outputs": []
    },
    {
      "cell_type": "code",
      "metadata": {
        "id": "0H1XhgA5Rg9P",
        "colab_type": "code",
        "colab": {}
      },
      "source": [
        "## Groupby : mean, sum\n",
        "# (1) bus_route_id 기준\n",
        "# 탑승\n",
        "train['avg_dawn_ride_bus_route_id'] = train.groupby(['date','bus_route_id'])['dawn_ride'].transform('mean') \n",
        "train['avg_morning_ride_bus_route_id'] = train.groupby(['date','bus_route_id'])['morning_ride'].transform('mean') \n",
        "train['avg_noon_ride_bus_route_id'] = train.groupby(['date','bus_route_id'])['noon_ride'].transform('mean') \n",
        "\n",
        "test['avg_dawn_ride_bus_route_id'] = test.groupby(['date','bus_route_id'])['dawn_ride'].transform('mean') \n",
        "test['avg_morning_ride_bus_route_id'] = test.groupby(['date','bus_route_id'])['morning_ride'].transform('mean') \n",
        "test['avg_noon_ride_bus_route_id'] = test.groupby(['date','bus_route_id'])['noon_ride'].transform('mean') \n",
        "\n",
        "# 하차\n",
        "train['avg_dawn_takeoff_bus_route_id'] = train.groupby(['date','bus_route_id'])['dawn_takeoff'].transform('mean') \n",
        "train['avg_morning_takeoff_bus_route_id'] = train.groupby(['date','bus_route_id'])['morning_takeoff'].transform('mean') \n",
        "train['avg_noon_takeoff_bus_route_id'] = train.groupby(['date','bus_route_id'])['noon_takeoff'].transform('mean') \n",
        "\n",
        "test['avg_dawn_takeoff_bus_route_id'] = test.groupby(['date','bus_route_id'])['dawn_takeoff'].transform('mean') \n",
        "test['avg_morning_takeoff_bus_route_id'] = test.groupby(['date','bus_route_id'])['morning_takeoff'].transform('mean') \n",
        "test['avg_noon_takeoff_bus_route_id'] = test.groupby(['date','bus_route_id'])['noon_takeoff'].transform('mean') \n",
        "\n",
        "# (2) bus_route_id, station_code 기준\n",
        "train['avg_dawn_ride_bus_route_id_station_code'] = train.groupby(['date','bus_route_id','station_code'])['dawn_ride'].transform('mean') \n",
        "train['avg_morning_ride_bus_route_id_station_code'] = train.groupby(['date','bus_route_id','station_code'])['morning_ride'].transform('mean') \n",
        "train['avg_noon_ride_bus_route_id_station_code'] = train.groupby(['date','bus_route_id','station_code'])['noon_ride'].transform('mean') \n",
        "\n",
        "test['avg_dawn_ride_bus_route_id_station_code'] = test.groupby(['date','bus_route_id','station_code'])['dawn_ride'].transform('mean') \n",
        "test['avg_morning_ride_bus_route_id_station_code'] = test.groupby(['date','bus_route_id','station_code'])['morning_ride'].transform('mean') \n",
        "test['avg_noon_ride_bus_route_id_station_code'] = test.groupby(['date','bus_route_id','station_code'])['noon_ride'].transform('mean') \n",
        "\n",
        "# (3) station_code 기준\n",
        "train['avg_dawn_ride_station_code'] = train.groupby(['date','station_code'])['dawn_ride'].transform('mean') \n",
        "train['avg_morning_ride_bus_station_code'] = train.groupby(['date','station_code'])['morning_ride'].transform('mean') \n",
        "train['avg_noon_ride_station_code'] = train.groupby(['date','station_code'])['noon_ride'].transform('mean') \n",
        "\n",
        "test['avg_dawn_ride_station_code'] = test.groupby(['date','station_code'])['dawn_ride'].transform('mean') \n",
        "test['avg_morning_ride_bus_station_code'] = test.groupby(['date','station_code'])['morning_ride'].transform('mean') \n",
        "test['avg_noon_ride_station_code'] = test.groupby(['date','station_code'])['noon_ride'].transform('mean') \n",
        "\n",
        "#################################################################################################################\n",
        "# (1) bus_route_id 기준\n",
        "train['sum_dawn_ride_bus_route_id'] = train.groupby(['date','bus_route_id'])['dawn_ride'].transform('sum') \n",
        "train['sum_morning_ride_bus_route_id'] = train.groupby(['date','bus_route_id'])['morning_ride'].transform('sum') \n",
        "train['sum_noon_ride_bus_route_id'] = train.groupby(['date','bus_route_id'])['noon_ride'].transform('sum') \n",
        "\n",
        "test['sum_dawn_ride_bus_route_id'] = test.groupby(['date','bus_route_id'])['dawn_ride'].transform('sum') \n",
        "test['sum_morning_ride_bus_route_id'] = test.groupby(['date','bus_route_id'])['morning_ride'].transform('sum') \n",
        "test['sum_noon_ride_bus_route_id'] = test.groupby(['date','bus_route_id'])['noon_ride'].transform('sum') \n",
        "\n",
        "train['sum_dawn_takeoff_bus_route_id'] = train.groupby(['date','bus_route_id'])['dawn_takeoff'].transform('sum') \n",
        "train['sum_morning_takeoff_bus_route_id'] = train.groupby(['date','bus_route_id'])['morning_takeoff'].transform('sum') \n",
        "train['sum_noon_takeoff_bus_route_id'] = train.groupby(['date','bus_route_id'])['noon_takeoff'].transform('sum') \n",
        "\n",
        "test['sum_dawn_takeoff_bus_route_id'] = test.groupby(['date','bus_route_id'])['dawn_takeoff'].transform('sum') \n",
        "test['sum_morning_takeoff_bus_route_id'] = test.groupby(['date','bus_route_id'])['morning_takeoff'].transform('sum') \n",
        "test['sum_noon_takeoff_bus_route_id'] = test.groupby(['date','bus_route_id'])['noon_takeoff'].transform('sum') \n",
        "\n",
        "# (2) bus_route_id, station_code 기준\n",
        "train['sum_dawn_ride_bus_route_id_station_code'] = train.groupby(['date','bus_route_id','station_code'])['dawn_ride'].transform('sum') \n",
        "train['sum_morning_ride_bus_route_id_station_code'] = train.groupby(['date','bus_route_id','station_code'])['morning_ride'].transform('sum') \n",
        "train['sum_noon_ride_bus_route_id_station_code'] = train.groupby(['date','bus_route_id','station_code'])['noon_ride'].transform('sum') \n",
        "\n",
        "test['sum_dawn_ride_bus_route_id_station_code'] = test.groupby(['date','bus_route_id','station_code'])['dawn_ride'].transform('sum') \n",
        "test['sum_morning_ride_bus_route_id_station_code'] = test.groupby(['date','bus_route_id','station_code'])['morning_ride'].transform('sum') \n",
        "test['sum_noon_ride_bus_route_id_station_code'] = test.groupby(['date','bus_route_id','station_code'])['noon_ride'].transform('sum') \n",
        "\n",
        "# (3) station_code 기준\n",
        "train['sum_dawn_ride_station_code'] = train.groupby(['date','station_code'])['dawn_ride'].transform('sum') \n",
        "train['sum_morning_ride_bus_station_code'] = train.groupby(['date','station_code'])['morning_ride'].transform('sum') \n",
        "train['sum_noon_ride_station_code'] = train.groupby(['date','station_code'])['noon_ride'].transform('sum') \n",
        "\n",
        "test['sum_dawn_ride_station_code'] = test.groupby(['date','station_code'])['dawn_ride'].transform('sum') \n",
        "test['sum_morning_ride_bus_station_code'] = test.groupby(['date','station_code'])['morning_ride'].transform('sum') \n",
        "test['sum_noon_ride_station_code'] = test.groupby(['date','station_code'])['noon_ride'].transform('sum') \n"
      ],
      "execution_count": 9,
      "outputs": []
    },
    {
      "cell_type": "markdown",
      "metadata": {
        "id": "Ca1paPNTUOZP",
        "colab_type": "text"
      },
      "source": [
        "## 3. 날짜 관련"
      ]
    },
    {
      "cell_type": "code",
      "metadata": {
        "id": "bKAhCPNiUQIP",
        "colab_type": "code",
        "colab": {}
      },
      "source": [
        "# 요일 정보 추가\n",
        "train['date'] = pd.to_datetime(train['date'])\n",
        "test['date'] = pd.to_datetime(test['date']) \n",
        "train['weekday'] = train['date'].dt.weekday\n",
        "test['weekday']  = test['date'].dt.weekday\n",
        "\n",
        "# 공휴일 정보 추가(추석, 개천절, 한글날)\n",
        "holidays = [datetime(2019, 9 ,12), datetime(2019, 9, 13), datetime(2019, 9 ,14), datetime(2019, 10,3), datetime(2019, 10,9) ]\n",
        "train['is_holiday'] = train['date'].apply(lambda x: x in holidays).astype(np.int8)\n",
        "test['is_holiday']  = test['date'].apply(lambda x: x in holidays).astype(np.int8)"
      ],
      "execution_count": 10,
      "outputs": []
    },
    {
      "cell_type": "markdown",
      "metadata": {
        "id": "goallXOBUV5i",
        "colab_type": "text"
      },
      "source": [
        "## 4. 날씨 관련\n",
        "9~10월 사이에 제주도에 태풍이 옴. 이를 반영하는게 중요할 것이라고 생각. "
      ]
    },
    {
      "cell_type": "code",
      "metadata": {
        "id": "msRhCL60TsnA",
        "colab_type": "code",
        "colab": {}
      },
      "source": [
        "## 날씨 정보(강수량)\n",
        "df_weather = pd.read_csv('/content/drive/My Drive/Colab Notebooks/버스 승차인원 예측/data/weather.csv', encoding='cp949')\n",
        "df_weather = df_weather[['일시','강수량(mm)']]\n",
        "df_weather.columns = ['date','precipitation']\n",
        "df_weather['date'] = pd.to_datetime( df_weather['date'] )\n",
        "\n",
        "# 리키지방지\n",
        "df_weather = df_weather[(df_weather['date']>='2019-08-31 00:00:00')&(df_weather['date']<='2019-10-16 23:00:00')].reset_index(drop=True)\n",
        "df_weather['hour'] = df_weather['date'].dt.hour\n",
        "df_weather['date'] = df_weather['date'].dt.date\n",
        "\n",
        "# 전날의 강수량을 정보\n",
        "df_prevday_weather = df_weather.groupby('date')['precipitation'].sum().reset_index()\n",
        "df_prevday_weather.columns = ['prev_date', 'prevday_precipitation']\n",
        "\n",
        "# 해당 날짜의 강수량을 구함(17시 이전까지의 당일 날씨정보만 활용)\n",
        "df_weather = df_weather[df_weather['hour']<=17].reset_index(drop=True)\n",
        "\n",
        "df_weather = df_weather.groupby('date')['precipitation'].sum().reset_index()\n",
        "df_prevday_weather['prev_date'] = pd.to_datetime( df_prevday_weather['prev_date']  )\n",
        "df_weather['date'] = pd.to_datetime( df_weather['date']  )"
      ],
      "execution_count": 11,
      "outputs": []
    },
    {
      "cell_type": "code",
      "metadata": {
        "id": "XigzrMlYT-Ph",
        "colab_type": "code",
        "colab": {}
      },
      "source": [
        "# prev_date : 전날\n",
        "train['prev_date'] = train['date'] - pd.Timedelta('1 day')\n",
        "test['prev_date'] = test['date'] - pd.Timedelta('1 day')\n",
        "\n",
        "train = pd.merge(train, df_prevday_weather , on ='prev_date',  how ='left')\n",
        "test = pd.merge(test, df_prevday_weather , on ='prev_date',how ='left')\n",
        "\n",
        "train = train.drop('prev_date',1)\n",
        "test = test.drop('prev_date',1)\n",
        "\n",
        "train = pd.merge( train, df_weather , on ='date', how='left')\n",
        "test = pd.merge( test, df_weather , on ='date', how='left')"
      ],
      "execution_count": 12,
      "outputs": []
    },
    {
      "cell_type": "markdown",
      "metadata": {
        "id": "5m7P4YjHUpnK",
        "colab_type": "text"
      },
      "source": [
        "## 5. 위치정보\n",
        "- 정류장의 위도/경도가 중요했음. \n",
        "- geopy.distance.vincenty 활용\n",
        "- pca 로 피쳐생성"
      ]
    },
    {
      "cell_type": "code",
      "metadata": {
        "id": "e7V54D-FT-H3",
        "colab_type": "code",
        "colab": {
          "base_uri": "https://localhost:8080/",
          "height": 52
        },
        "outputId": "75aeb848-aeae-47ff-c316-2be42742f0d2"
      },
      "source": [
        "%%time\n",
        "# 좌표 사이 거리 추가\n",
        "import geopy.distance\n",
        "from collections import Counter\n",
        "jeju=(33.51411, 126.52969) # 제주 측정소 근처\n",
        "gosan=(33.29382, 126.16283) #고산 측정소 근처\n",
        "seongsan=(33.38677, 126.8802) #성산 측정소 근처\n",
        "po=(33.24616, 126.5653) #서귀포 측정소 근처\n",
        "\n",
        "t1 = [geopy.distance.vincenty( (i,j), jeju).km for i,j in list( zip( train['latitude'],train['longitude'] )) ]\n",
        "t2 = [geopy.distance.vincenty( (i,j), gosan).km for i,j in list( zip( train['latitude'],train['longitude'] )) ]\n",
        "t3 = [geopy.distance.vincenty( (i,j), seongsan).km for i,j in list( zip( train['latitude'],train['longitude'] )) ]\n",
        "t4 = [geopy.distance.vincenty( (i,j), po).km for i,j in list( zip( train['latitude'],train['longitude'] )) ]\n",
        "\n",
        "train['dis_jeju']=t1\n",
        "train['dis_gosan']=t2\n",
        "train['dis_seongsan']=t3\n",
        "train['dis_po']=t4\n",
        "\n",
        "total=pd.DataFrame( list(zip( t1,t2,t3,t4)),columns=['jeju','gosan','seongsan','po'] )\n",
        "train['dist_name'] = total.apply(lambda x: x.argmin(), axis=1)\n",
        "\n",
        "data22=train[['station_name','latitude','longitude','dist_name']].drop_duplicates(keep='first')\n",
        "\n",
        "Counter(data22['dist_name']) # Counter를 통해 확인\n",
        "# 0 : 제주/ 1 : 고산/ 2 : 성산/ 3 : 포\n",
        "\n",
        "# test\n",
        "t1 = [geopy.distance.vincenty( (i,j), jeju).km for i,j in list( zip( test['latitude'],test['longitude'] )) ]\n",
        "t2 = [geopy.distance.vincenty( (i,j), gosan).km for i,j in list( zip( test['latitude'],test['longitude'] )) ]\n",
        "t3 = [geopy.distance.vincenty( (i,j), seongsan).km for i,j in list( zip( test['latitude'],test['longitude'] )) ]\n",
        "t4 = [geopy.distance.vincenty( (i,j), po).km for i,j in list( zip( test['latitude'],test['longitude'] )) ]\n",
        "\n",
        "test['dis_jeju']=t1\n",
        "test['dis_gosan']=t2\n",
        "test['dis_seongsan']=t3\n",
        "test['dis_po']=t4\n",
        "\n",
        "total=pd.DataFrame( list(zip( t1,t2,t3,t4)),columns=['jeju','gosan','seongsan','po'] )\n",
        "test['dist_name'] = total.apply(lambda x: x.argmin(), axis=1)\n",
        "# test = pd.get_dummies(test, columns=['dist_name'])\n",
        "\n",
        "# 좌표 데이터 변수 추가\n",
        "coords_jejusi = (33.500770, 126.522761) #제주시의 위도 경도\n",
        "train['dis_jejusi'] = [geopy.distance.vincenty((train['latitude'].iloc[i],train['longitude'].iloc[i]), coords_jejusi).km for i in range(len(train))]\n",
        "\n",
        "coords_jejusicheong1 = (33.49892, 126.53035) #제주시청(광양방면)의 위도 경도\n",
        "coords_jejuairport = (33.50661, 126.49345) #제주국제공항(구제주방면)의 위도 경도\n",
        "coords_hallahosp = (33.48963, 126.486) #한라병원의 위도 경도\n",
        "coords_rotary = (33.49143, 126.49678) # 제주도청신제주로터리의 위도 경도\n",
        "coords_jejucenterhigh = (33.48902, 126.5392) #제주중앙여자고등학교의 위도 경도\n",
        "coords_jejumarket = (33.51315, 126.52706) #동문시장의 위도 경도\n",
        "coords_jejusclass = (33.47626, 126.48141) #제주고등학교/중흥S클래스의 위도 경도\n",
        "coords_centerroad = (33.51073, 126.5239) #중앙로(국민은행)의 위도 경도\n",
        "coords_fiveway = (33.48667, 126.48092) # 노형오거리의 위도 경도\n",
        "coords_law = (33.49363, 126.53476) # 제주지방법원(광양방면)의 위도 경도\n",
        "\n",
        "train['dis_jejusicheong1'] = [geopy.distance.vincenty((train['latitude'].iloc[i],train['longitude'].iloc[i]), coords_jejusicheong1).km for i in range(len(train))]\n",
        "train['dis_jejuairport'] = [geopy.distance.vincenty((train['latitude'].iloc[i],train['longitude'].iloc[i]), coords_jejuairport).km for i in range(len(train))]\n",
        "train['dis_hallahosp'] = [geopy.distance.vincenty((train['latitude'].iloc[i],train['longitude'].iloc[i]), coords_hallahosp).km for i in range(len(train))]\n",
        "train['dis_rotary'] = [geopy.distance.vincenty((train['latitude'].iloc[i],train['longitude'].iloc[i]), coords_rotary).km for i in range(len(train))]\n",
        "train['dis_jejucenterhigh'] = [geopy.distance.vincenty((train['latitude'].iloc[i],train['longitude'].iloc[i]), coords_jejucenterhigh).km for i in range(len(train))]\n",
        "train['dis_jejumarket'] = [geopy.distance.vincenty((train['latitude'].iloc[i],train['longitude'].iloc[i]), coords_jejumarket).km for i in range(len(train))]\n",
        "train['dis_jejusclass'] = [geopy.distance.vincenty((train['latitude'].iloc[i],train['longitude'].iloc[i]), coords_jejusclass).km for i in range(len(train))]\n",
        "train['dis_centerroad'] = [geopy.distance.vincenty((train['latitude'].iloc[i],train['longitude'].iloc[i]), coords_centerroad).km for i in range(len(train))]\n",
        "train['dis_fiveway'] = [geopy.distance.vincenty((train['latitude'].iloc[i],train['longitude'].iloc[i]), coords_fiveway).km for i in range(len(train))]\n",
        "train['dis_law'] = [geopy.distance.vincenty((train['latitude'].iloc[i],train['longitude'].iloc[i]), coords_law).km for i in range(len(train))]\n",
        "\n",
        "# 좌표 데이터 변수 추가\n",
        "test['dis_jejusi'] = [geopy.distance.vincenty((test['latitude'].iloc[i],test['longitude'].iloc[i]), coords_jejusi).km for i in range(len(test))]\n",
        "test['dis_jejusicheong1'] = [geopy.distance.vincenty((test['latitude'].iloc[i],test['longitude'].iloc[i]), coords_jejusicheong1).km for i in range(len(test))]\n",
        "test['dis_jejuairport'] = [geopy.distance.vincenty((test['latitude'].iloc[i],test['longitude'].iloc[i]), coords_jejuairport).km for i in range(len(test))]\n",
        "test['dis_hallahosp'] = [geopy.distance.vincenty((test['latitude'].iloc[i],test['longitude'].iloc[i]), coords_hallahosp).km for i in range(len(test))]\n",
        "test['dis_rotary'] = [geopy.distance.vincenty((test['latitude'].iloc[i],test['longitude'].iloc[i]), coords_rotary).km for i in range(len(test))]\n",
        "test['dis_jejucenterhigh'] = [geopy.distance.vincenty((test['latitude'].iloc[i],test['longitude'].iloc[i]), coords_jejucenterhigh).km for i in range(len(test))]\n",
        "test['dis_jejumarket'] = [geopy.distance.vincenty((test['latitude'].iloc[i],test['longitude'].iloc[i]), coords_jejumarket).km for i in range(len(test))]\n",
        "test['dis_jejusclass'] = [geopy.distance.vincenty((test['latitude'].iloc[i],test['longitude'].iloc[i]), coords_jejusclass).km for i in range(len(test))]\n",
        "test['dis_centerroad'] = [geopy.distance.vincenty((test['latitude'].iloc[i],test['longitude'].iloc[i]), coords_centerroad).km for i in range(len(test))]\n",
        "test['dis_fiveway'] = [geopy.distance.vincenty((test['latitude'].iloc[i],test['longitude'].iloc[i]), coords_fiveway).km for i in range(len(test))]\n",
        "test['dis_law'] = [geopy.distance.vincenty((test['latitude'].iloc[i],test['longitude'].iloc[i]), coords_law).km for i in range(len(test))]\n"
      ],
      "execution_count": 13,
      "outputs": [
        {
          "output_type": "stream",
          "text": [
            "CPU times: user 8min 19s, sys: 530 ms, total: 8min 19s\n",
            "Wall time: 8min 19s\n"
          ],
          "name": "stdout"
        }
      ]
    },
    {
      "cell_type": "code",
      "metadata": {
        "id": "mHcmOvXET-FW",
        "colab_type": "code",
        "colab": {
          "base_uri": "https://localhost:8080/",
          "height": 297
        },
        "outputId": "b8750b2b-6164-431d-bb5d-891ebb484d19"
      },
      "source": [
        "# PCA transformation\n",
        "from sklearn.decomposition import PCA\n",
        "from sklearn.cluster import KMeans\n",
        "\n",
        "coord = train[['latitude', 'longitude']] # 위도 경도 coord에 저장\n",
        "pca = PCA(n_components=2)\n",
        "pca.fit(coord)\n",
        "\n",
        "coord_pca = pca.transform(coord)\n",
        "coord_pca\n",
        "train['pca1'] = coord_pca[:, 0]\n",
        "train['pca2'] = coord_pca[:, 1]\n",
        "\n",
        "sns.scatterplot(x='pca1', y='pca2', data=train)"
      ],
      "execution_count": 14,
      "outputs": [
        {
          "output_type": "execute_result",
          "data": {
            "text/plain": [
              "<matplotlib.axes._subplots.AxesSubplot at 0x7f0b9d31e9e8>"
            ]
          },
          "metadata": {
            "tags": []
          },
          "execution_count": 14
        },
        {
          "output_type": "display_data",
          "data": {
            "image/png": "[encoded data removed]",
            "text/plain": [
              "<Figure size 432x288 with 1 Axes>"
            ]
          },
          "metadata": {
            "tags": [],
            "needs_background": "light"
          }
        }
      ]
    },
    {
      "cell_type": "code",
      "metadata": {
        "id": "tr5PBv_NMswo",
        "colab_type": "code",
        "colab": {}
      },
      "source": [
        "coord_test = test[['latitude', 'longitude']] # 위도 경도 coord에 저장\n",
        "pca = PCA(n_components=2)\n",
        "pca.fit(coord_test)\n",
        "\n",
        "coord_pca = pca.transform(coord_test)\n",
        "coord_pca\n",
        "test['pca1'] = coord_pca[:, 0]\n",
        "test['pca2'] = coord_pca[:, 1]"
      ],
      "execution_count": 15,
      "outputs": []
    },
    {
      "cell_type": "markdown",
      "metadata": {
        "id": "uqAV7UwNVa3s",
        "colab_type": "text"
      },
      "source": [
        "## 6. bts정보"
      ]
    },
    {
      "cell_type": "code",
      "metadata": {
        "id": "zJN7Qk9YVH2U",
        "colab_type": "code",
        "colab": {}
      },
      "source": [
        "# bus_route_id 별 정차 순서를 구하도록 함\n",
        "bus_route_sequence = {}\n",
        "\n",
        "combined = train.append(test, ignore_index=True)\n",
        "all_bus_route_ids = set(combined['bus_route_id'])\n",
        "\n",
        "for bus_route_id in tqdm_notebook( all_bus_route_ids ) :\n",
        "    # bus_route_id별 station_code를 오름차순으로 순서매김함\n",
        "    df_bus_route = combined[combined['bus_route_id']==bus_route_id]\n",
        "    sorted_station_codes = np.unique(df_bus_route['station_code'])\n",
        "    \n",
        "    # dictionary에 해당 정류장이 몇번째 정차 정류장인지 기입\n",
        "    bus_route_sequence[bus_route_id] = {station_code: ind for ind, station_code in enumerate( list(sorted_station_codes) )}\n",
        "\n",
        "# 몇 번째 정류장인지를 피쳐로 생성\n",
        "train['nth_station']= train[['bus_route_id','station_code']].apply(lambda x: bus_route_sequence.get(x[0]).get(x[1]), axis=1)\n",
        "test['nth_station'] = test[['bus_route_id','station_code']].apply(lambda x: bus_route_sequence.get(x[0]).get(x[1]), axis=1)\n",
        "\n",
        "# 해당 bus_route_id에는 몇 개의 정류장이 있는지\n",
        "bus_route_id_total_station_count_dict = combined.groupby('bus_route_id')['station_code'].nunique().to_dict()\n",
        "\n",
        "train['bus_route_id_total_staion_count'] = train['bus_route_id'].apply(lambda x: bus_route_id_total_station_count_dict.get(x) )\n",
        "test['bus_route_id_total_staion_count']  = test['bus_route_id'].apply(lambda x: bus_route_id_total_station_count_dict.get(x) )\n",
        "\n",
        "# 뒤에서부터 몇 번째 정류장인지\n",
        "train['nth_station_backward']= train['nth_station'] - train['bus_route_id_total_staion_count']\n",
        "test['nth_station_backward'] = test['nth_station'] - test['bus_route_id_total_staion_count']"
      ],
      "execution_count": null,
      "outputs": []
    },
    {
      "cell_type": "markdown",
      "metadata": {
        "id": "hIPH1VZ7YHsm",
        "colab_type": "text"
      },
      "source": [
        "## 7. 정류장 k-means"
      ]
    },
    {
      "cell_type": "code",
      "metadata": {
        "id": "5X_6zsJuVH0b",
        "colab_type": "code",
        "colab": {}
      },
      "source": [
        "# 중복되지 않는 위경도 값들을 수집함\n",
        "combined = train[['latitude','longitude']].append(test[['latitude','longitude']])\n",
        "combined = combined.drop_duplicates() \n",
        "\n",
        "# kmeans를 통하여 군집화\n",
        "kmeans = KMeans(n_clusters= int(sqrt(len(combined)) ), random_state=1993)\n",
        "kmeans.fit( combined )\n",
        "\n",
        "train['station_code_kmeans'] = kmeans.predict(train[['latitude','longitude']])\n",
        "test['station_code_kmeans']  = kmeans.predict(test[['latitude','longitude']])"
      ],
      "execution_count": null,
      "outputs": []
    },
    {
      "cell_type": "code",
      "metadata": {
        "id": "7DZbzhMHVHx8",
        "colab_type": "code",
        "colab": {}
      },
      "source": [
        "train['station_code_kmeans'].unique()"
      ],
      "execution_count": null,
      "outputs": []
    },
    {
      "cell_type": "code",
      "metadata": {
        "id": "gTxA6DUegjGK",
        "colab_type": "code",
        "colab": {}
      },
      "source": [
        "fig = plt.figure(figsize=(16, 12))\n",
        "fig = plt.subplot(221)\n",
        "sns.scatterplot(x=train['longitude'], y=train['latitude'], hue = train['station_code_kmeans'])"
      ],
      "execution_count": null,
      "outputs": []
    },
    {
      "cell_type": "code",
      "metadata": {
        "id": "PXba2xnNeXJ6",
        "colab_type": "code",
        "colab": {}
      },
      "source": [
        "# 군집별 승차량 평균\n",
        "train['cluster_target_mean'] = train.groupby(['station_code_kmeans'])['18~20_ride'].transform('mean') \n",
        "train['cluster_dawn_ride'] = train.groupby(['date','station_code_kmeans'])['dawn_ride'].transform('mean') \n",
        "train['cluster_morning_ride'] = train.groupby(['date','station_code_kmeans'])['morning_ride'].transform('mean') \n",
        "train['cluster_noon_ride'] = train.groupby(['date','station_code_kmeans'])['noon_ride'].transform('mean') \n",
        "\n",
        "test['cluster_target_mean'] = test.groupby(['station_code_kmeans'])['18~20_ride'].transform('mean') \n",
        "test['cluster_dawn_ride'] = test.groupby(['date','station_code_kmeans'])['dawn_ride'].transform('mean') \n",
        "test['cluster_morning_ride'] = test.groupby(['date','station_code_kmeans'])['morning_ride'].transform('mean') \n",
        "test['cluster_noon_ride'] = test.groupby(['date','station_code_kmeans'])['noon_ride'].transform('mean') "
      ],
      "execution_count": null,
      "outputs": []
    },
    {
      "cell_type": "code",
      "metadata": {
        "id": "ne5q87R4eXBy",
        "colab_type": "code",
        "colab": {}
      },
      "source": [
        "train.columns"
      ],
      "execution_count": null,
      "outputs": []
    },
    {
      "cell_type": "markdown",
      "metadata": {
        "id": "L1hdMHNREkHk",
        "colab_type": "text"
      },
      "source": [
        "## 8. 그 외 피쳐\n"
      ]
    },
    {
      "cell_type": "code",
      "metadata": {
        "id": "tz-UALZ5EmiA",
        "colab_type": "code",
        "colab": {}
      },
      "source": [
        "## 혼잡도\n",
        "# 1. 버스 노선 id에 따른 혼잡도(Congestion)\n",
        "def congestion() :\n",
        "    df = train.groupby(['bus_route_id'])['18~20_ride'].agg([('passenger', 'sum')])\n",
        "    df = df.sort_values(by='passenger', ascending=False).reset_index()\n",
        "    \n",
        "    def f(x):\n",
        "        if x > 10000:\n",
        "            return 7\n",
        "\n",
        "        elif x > 5000:\n",
        "            return 6\n",
        "\n",
        "        elif x > 2000:\n",
        "            return 5\n",
        "\n",
        "        elif x > 700:\n",
        "            return 4\n",
        "\n",
        "        elif x > 200:\n",
        "            return 3\n",
        "\n",
        "        elif x > 50:\n",
        "            return 2\n",
        "\n",
        "        else:\n",
        "            return 1\n",
        "    \n",
        "    df['congestion']=df['passenger'].apply(f)\n",
        "    df = df[['bus_route_id','congestion']]\n",
        "    \n",
        "    tr = pd.merge(train, df, how='left', on='bus_route_id')\n",
        "    te = pd.merge(test, df, how='left', on='bus_route_id')\n",
        "    \n",
        "    # 결측치는 데이터 프레임 df의 'congestion'의 중간값인 '4'으로 대체\n",
        "    te = te.fillna(4)\n",
        "    \n",
        "    return tr, te\n",
        "train, test = congestion()\n",
        "\n",
        "# 2. station code에 따른 혼잡도\n",
        "df = train.groupby(['station_code'])['18~20_ride'].agg([('passenger', 'sum')])\n",
        "df = df.sort_values(by='passenger', ascending=False).reset_index() # station_code에 따른 승객 수\n",
        "\n",
        "def f(x):\n",
        "  if x>250:\n",
        "    return 6\n",
        "\n",
        "  elif x>150:\n",
        "    return 5\n",
        "\n",
        "  elif x>70:\n",
        "    return 4\n",
        "\n",
        "  elif x>40:\n",
        "    return 3\n",
        "\n",
        "  elif x>5:\n",
        "    return 2\n",
        "\n",
        "  else:\n",
        "    return 1\n",
        "\n",
        "df['s_congestion'] = df['passenger'].apply(f)\n",
        "df = df[['station_code', 's_congestion']]\n",
        "\n",
        "train = pd.merge(train, df, how='left', on='station_code')\n",
        "test = pd.merge(test, df, how='left', on='station_code')\n",
        "test = test.fillna(4)"
      ],
      "execution_count": null,
      "outputs": []
    },
    {
      "cell_type": "markdown",
      "metadata": {
        "id": "7pkV6KiOMuTE",
        "colab_type": "text"
      },
      "source": [
        "## 9. 외부데이터 추가"
      ]
    },
    {
      "cell_type": "code",
      "metadata": {
        "id": "sw_y4yzbQsVh",
        "colab_type": "code",
        "colab": {}
      },
      "source": [
        "# 항공 데이터(근데 당일마다 18시 이전의 통계량만 읽어와야 함. 리키지 유의하자!)\n",
        "# pandas로 html 파일 불러오기\n",
        "month = 8\n",
        "day = 29\n",
        "df = pd.read_html('https://www.airport.co.kr/www/extra/dailyExpect/dailyExpectList/layOut.do?yyyy=2019&mm='+str(month) +'&dd=' + str(day))\n",
        "df = df[1]\n",
        "df = df.iloc[:54] # leakage 방지\n",
        "df.tail()"
      ],
      "execution_count": null,
      "outputs": []
    },
    {
      "cell_type": "code",
      "metadata": {
        "id": "xsa1l-oWRlW0",
        "colab_type": "code",
        "colab": {}
      },
      "source": [
        "df.columns = ['시간대','','','','','', '제주_국내','제주_국제','','','','', '', '', '', '']\n",
        "df = df[['제주_국내','제주_국제']]"
      ],
      "execution_count": null,
      "outputs": []
    },
    {
      "cell_type": "code",
      "metadata": {
        "id": "fLKjAFHZUzTZ",
        "colab_type": "code",
        "colab": {}
      },
      "source": [
        "# 항공 데이터(근데 당일마다 18시 이전의 통계량만 읽어와야 함. 리키지 유의하자!)\n",
        "# pandas로 html 파일 불러오기\n",
        "from tqdm import tqdm_notebook\n",
        "date = []\n",
        "국내_list = []\n",
        "국제_list = []\n",
        "\n",
        "for month in tqdm_notebook( [9, 10]):\n",
        "  if month == 9:\n",
        "    for day in tqdm_notebook( range(1,31)):\n",
        "      df = pd.read_html('https://www.airport.co.kr/www/extra/dailyExpect/dailyExpectList/layOut.do?yyyy=2019&mm='+str(month) +'&dd=' + str(day))[1]\n",
        "      df = df.iloc[:54] # 리키지 방지\n",
        "      df.columns = ['시간대','','','','','', '제주_국내','제주_국제','','','','', '', '', '', '']\n",
        "      df = df[['제주_국내','제주_국제']]\n",
        "      국내, 국제 = df.sum(axis=0).values\n",
        "      date.append( '2019-' + '09-' + str(day) )\n",
        "      국내_list.append(국내)\n",
        "      국제_list.append(국제)\n",
        "\n",
        "  if month == 10:\n",
        "    for day in tqdm_notebook( range(1,17)):\n",
        "      df = pd.read_html('https://www.airport.co.kr/www/extra/dailyExpect/dailyExpectList/layOut.do?yyyy=2019&mm='+str(month) +'&dd=' + str(day))[1]\n",
        "      df = df.iloc[:54] # 리키지 방지\n",
        "      df.columns = ['시간대','','','','','', '제주_국내','제주_국제','','','','', '', '', '', '']\n",
        "      df = df[['제주_국내','제주_국제']]\n",
        "      국내, 국제 = df.sum(axis=0).values\n",
        "      date.append( '2019-' + '10-' + str(day) )\n",
        "      국내_list.append(국내)\n",
        "      국제_list.append(국제)"
      ],
      "execution_count": null,
      "outputs": []
    },
    {
      "cell_type": "code",
      "metadata": {
        "id": "rnDWyA6EUzR2",
        "colab_type": "code",
        "colab": {}
      },
      "source": [
        "airport = pd.DataFrame(data = {'date':date, '국내관광객':국내_list, '국제관광객':국제_list})\n",
        "# airport.to_csv('/content/drive/My Drive/Colab Notebooks/버스 승차인원 예측/data/airport910.csv', index=False)\n",
        "airport['date'] = pd.to_datetime(airport['date'])\n",
        "airport = airport.rename(columns={'국내관광객':'in_tourist', '국제관광객':'out_tourist'})"
      ],
      "execution_count": null,
      "outputs": []
    },
    {
      "cell_type": "code",
      "metadata": {
        "id": "bqKhXSDIbgLe",
        "colab_type": "code",
        "colab": {}
      },
      "source": [
        "airport.head()"
      ],
      "execution_count": null,
      "outputs": []
    },
    {
      "cell_type": "code",
      "metadata": {
        "id": "3EMKUpEeOVhU",
        "colab_type": "code",
        "colab": {}
      },
      "source": [
        "train['is_test'] = 0\n",
        "test['is_test'] = 1\n",
        "data = pd.concat([train, test])\n",
        "data = pd.merge(data, airport, how = 'left', on = 'date')\n",
        "train = data.query('is_test==0')\n",
        "test = data.query('is_test==1')"
      ],
      "execution_count": null,
      "outputs": []
    },
    {
      "cell_type": "code",
      "metadata": {
        "id": "fON7NS9-LWfj",
        "colab_type": "code",
        "colab": {}
      },
      "source": [
        "train.to_csv('/content/drive/My Drive/Colab Notebooks/버스 승차인원 예측/data/best_train.csv', index=False)\n",
        "test.to_csv('/content/drive/My Drive/Colab Notebooks/버스 승차인원 예측/data/best_test.csv', index=False)"
      ],
      "execution_count": null,
      "outputs": []
    },
    {
      "cell_type": "markdown",
      "metadata": {
        "id": "muZd9CJOZ4fk",
        "colab_type": "text"
      },
      "source": [
        "## < Modeling >\n",
        "- lgbm\n",
        "- xgboost\n",
        "- random forest\n",
        "- tpot\n",
        "- catboost\n",
        "> permutation "
      ]
    },
    {
      "cell_type": "code",
      "metadata": {
        "id": "up4D-ADiT-C2",
        "colab_type": "code",
        "colab": {}
      },
      "source": [
        "# 1. lgbm + fold 5 \n",
        "n_splits= 5\n",
        "NUM_BOOST_ROUND = 100000\n",
        "SEED = 1993\n",
        "lgbm_param = {'objective':'rmse',\n",
        "              'boosting_type': 'gbdt',\n",
        "              'random_state':1993,\n",
        "              'learning_rate':0.01,\n",
        "              'subsample':0.7,\n",
        "              'tree_learner': 'serial',\n",
        "              'colsample_bytree':0.68,\n",
        "              'early_stopping_rounds':50,\n",
        "              'subsample_freq': 1,\n",
        "              'reg_lambda':7,\n",
        "              'reg_alpha': 5,\n",
        "              'num_leaves': 96,\n",
        "              'seed' : SEED\n",
        "            }\n",
        "\n",
        "target_col = '18~20_ride'\n",
        "drop_cols = ['date','id',target_col]\n",
        "train_label = train[target_col]\n",
        "\n",
        "test[target_col] = np.NaN\n",
        "\n",
        "# 각 모델에 대한 oof 정의\n",
        "lgbm_oof_train = np.zeros((train.shape[0]))\n",
        "lgbm_oof_test = np.zeros((test.shape[0]))\n",
        "\n",
        "# Kfold 정의\n",
        "kfolds = KFold(n_splits=n_splits, random_state=1993, shuffle=True)\n",
        "\n",
        "\n",
        "# Fold별로 학습진행\n",
        "for ind, (trn_ind, val_ind) in tqdm_notebook( enumerate( kfolds.split( X = train, y = train_label ) ) ):\n",
        "    \n",
        "    # Train/Valid-set을 정의하기\n",
        "    X_train , y_train = train.iloc[trn_ind].drop(drop_cols, 1), train_label[trn_ind]\n",
        "    X_valid , y_valid = train.iloc[val_ind].drop(drop_cols, 1), train_label[val_ind]\n",
        "    \n",
        "    # Target- Mean Encoding\n",
        "    X_train['label'] = y_train\n",
        "    d = X_train.groupby(['station_code'])['label'].mean().to_dict()\n",
        "    X_train['station_code_te'] = X_train['station_code'].apply(lambda x: d.get(x))\n",
        "    X_valid['station_code_te'] = X_valid['station_code'].apply(lambda x: d.get(x))\n",
        "    test['station_code_te'] = test['station_code'].apply(lambda x: d.get(x))\n",
        "    \n",
        "    X_train= X_train.drop('label',1)\n",
        "    \n",
        "    \n",
        "    # (5) Light GBM\n",
        "    print(\"---TRAINING LIGHT GBM---\")\n",
        "    # dtrain/dvalid 정의\n",
        "    dtrain = lgbm.Dataset(X_train, y_train)\n",
        "    dvalid = lgbm.Dataset(X_valid, y_valid)\n",
        "    \n",
        "    # model 정의&학습\n",
        "    model = lgbm.train(lgbm_param , dtrain, NUM_BOOST_ROUND, \n",
        "                       valid_sets=(dtrain, dvalid), \n",
        "                       valid_names=('train','valid'), \n",
        "                       categorical_feature= ['bus_route_id','station_code', 'station_code_kmeans'],\n",
        "                       verbose_eval= 100)\n",
        "    \n",
        "    # local_valid/local_test에 대한 예측\n",
        "    lgbm_valid_pred = model.predict(X_valid)\n",
        "    lgbm_test_pred = model.predict(test.drop(drop_cols, 1))\n",
        "        \n",
        "    lgbm_oof_train[val_ind] = lgbm_valid_pred\n",
        "    lgbm_oof_test += lgbm_test_pred/ n_splits\n",
        "    print('='*80)\n",
        "    \n",
        "print(f\"<Light-GBM> OVERALL RMSE     : {sqrt( mean_squared_error( train_label, lgbm_oof_train ) )}\")\n",
        "sub = pd.read_csv('/content/drive/My Drive/Colab Notebooks/버스 승차인원 예측/data/submission_sample.csv')\n",
        "sub['18~20_ride'] =lgbm_oof_test.tolist()\n",
        "sub.to_csv(\"/content/drive/My Drive/Colab Notebooks/버스 승차인원 예측/submission/lgbm0816.csv\", index=False)"
      ],
      "execution_count": null,
      "outputs": []
    },
    {
      "cell_type": "code",
      "metadata": {
        "id": "9LJeQRDFJiqY",
        "colab_type": "code",
        "colab": {}
      },
      "source": [
        "## 2. random forest\n",
        "X = train.drop(['id', 'date', 'is_test', '18~20_ride', 'bus_route_id','station_code','station_name'], axis=1)\n",
        "y = train['18~20_ride']\n",
        "X_test = test.drop(['id', 'date', 'is_test', 'bus_route_id','station_code','station_name', '18~20_ride'], axis=1)\n",
        "X.fillna(0, inplace=True)\n",
        "X_test.fillna(0, inplace=True)"
      ],
      "execution_count": null,
      "outputs": []
    },
    {
      "cell_type": "code",
      "metadata": {
        "id": "4QlPCr7PJkAf",
        "colab_type": "code",
        "colab": {}
      },
      "source": [
        "print(X.shape, y.shape, X_test.shape)"
      ],
      "execution_count": null,
      "outputs": []
    },
    {
      "cell_type": "code",
      "metadata": {
        "id": "x695vGKeMGOp",
        "colab_type": "code",
        "colab": {}
      },
      "source": [
        "X_test.columns.difference(X.columns)"
      ],
      "execution_count": null,
      "outputs": []
    },
    {
      "cell_type": "code",
      "metadata": {
        "id": "Y_jVJhyw4K66",
        "colab_type": "code",
        "colab": {}
      },
      "source": [
        "from sklearn.model_selection import train_test_split\n",
        "X_train, X_val, y_train, y_val = train_test_split(X, y, random_state=2020, test_size=0.1)\n",
        "\n",
        "from sklearn.ensemble import RandomForestRegressor\n",
        "rf = RandomForestRegressor(max_features=3,\n",
        "                           min_samples_leaf=2,\n",
        "                           min_samples_split=2,\n",
        "                           n_estimators=500,\n",
        "                           random_state=1217)\n",
        "\n",
        "rf.fit(X_train,y_train) \n",
        "rf_pred = rf.predict(X_test) \n",
        "sub = pd.read_csv('/content/drive/My Drive/Colab Notebooks/버스 승차인원 예측/data/submission_sample.csv')\n",
        "sub['18~20_ride'] = rf_pred.tolist()\n",
        "sub.to_csv(\"/content/drive/My Drive/Colab Notebooks/버스 승차인원 예측/submission/rf_only0816.csv\", index=False)"
      ],
      "execution_count": null,
      "outputs": []
    },
    {
      "cell_type": "code",
      "metadata": {
        "id": "bWYWPeXdVgPa",
        "colab_type": "code",
        "colab": {
          "base_uri": "https://localhost:8080/",
          "height": 1000
        },
        "outputId": "e72bccfd-1d03-4ac3-e8d2-6223c144a7a6"
      },
      "source": [
        "# 3. xgb(20시간)\n",
        "%%time\n",
        "import xgboost as xgb\n",
        "\n",
        "dtrain = xgb.DMatrix(X, y)\n",
        "dtest = xgb.DMatrix(X_test)\n",
        "\n",
        "xgb_params = {\n",
        "    'eta': 0.01,\n",
        "    'max_depth': 6,\n",
        "    'subsample': 0.8,\n",
        "    'colsample_bytree': 0.8,\n",
        "    'objective': 'reg:linear',\n",
        "    'eval_metric': 'rmse',\n",
        "    'silent': 1\n",
        "    # 'alpha': 0.05\n",
        "    # 'lambda': 0.05\n",
        "    }\n",
        "\n",
        "cv_output = xgb.cv(xgb_params, dtrain, num_boost_round=50000, \n",
        "                   early_stopping_rounds=50,verbose_eval=500, show_stdv=False)\n",
        "print('best num_boost_rounds = ', len(cv_output))\n",
        "rounds = len(cv_output)\n",
        "\n",
        "model = xgb.train(xgb_params, dtrain, num_boost_round = rounds)\n",
        "preds = model.predict(dtest)\n",
        "sub = pd.read_csv('/content/drive/My Drive/Colab Notebooks/버스 승차인원 예측/data/submission_sample.csv')\n",
        "sub['18~20_ride'] = preds.tolist()\n",
        "sub.to_csv(\"/content/drive/My Drive/Colab Notebooks/버스 승차인원 예측/submission/0817xgboost.csv\", index=False)"
      ],
      "execution_count": null,
      "outputs": [
        {
          "output_type": "stream",
          "text": [
            "[0]\ttrain-rmse:4.75311\ttest-rmse:4.755\n",
            "[500]\ttrain-rmse:2.30026\ttest-rmse:2.66593\n",
            "[1000]\ttrain-rmse:2.10195\ttest-rmse:2.56353\n",
            "[1500]\ttrain-rmse:1.97849\ttest-rmse:2.50932\n",
            "[2000]\ttrain-rmse:1.88127\ttest-rmse:2.47107\n",
            "[2500]\ttrain-rmse:1.80115\ttest-rmse:2.44386\n",
            "[3000]\ttrain-rmse:1.73186\ttest-rmse:2.42238\n",
            "[3500]\ttrain-rmse:1.6723\ttest-rmse:2.40575\n",
            "[4000]\ttrain-rmse:1.62027\ttest-rmse:2.39177\n",
            "[4500]\ttrain-rmse:1.57271\ttest-rmse:2.38012\n",
            "[5000]\ttrain-rmse:1.52933\ttest-rmse:2.37048\n",
            "[5500]\ttrain-rmse:1.49069\ttest-rmse:2.36209\n",
            "[6000]\ttrain-rmse:1.45522\ttest-rmse:2.35501\n",
            "[6500]\ttrain-rmse:1.42288\ttest-rmse:2.34894\n",
            "[7000]\ttrain-rmse:1.39317\ttest-rmse:2.34363\n",
            "[7500]\ttrain-rmse:1.36526\ttest-rmse:2.33914\n",
            "[8000]\ttrain-rmse:1.33905\ttest-rmse:2.33496\n",
            "[8500]\ttrain-rmse:1.3145\ttest-rmse:2.33167\n",
            "[9000]\ttrain-rmse:1.29107\ttest-rmse:2.32827\n",
            "[9500]\ttrain-rmse:1.26912\ttest-rmse:2.32561\n",
            "[10000]\ttrain-rmse:1.24805\ttest-rmse:2.32301\n",
            "[10500]\ttrain-rmse:1.22818\ttest-rmse:2.32062\n",
            "[11000]\ttrain-rmse:1.20931\ttest-rmse:2.3186\n",
            "[11500]\ttrain-rmse:1.19115\ttest-rmse:2.31668\n",
            "[12000]\ttrain-rmse:1.17343\ttest-rmse:2.31481\n",
            "[12500]\ttrain-rmse:1.15678\ttest-rmse:2.31314\n",
            "[13000]\ttrain-rmse:1.14078\ttest-rmse:2.31163\n",
            "[13500]\ttrain-rmse:1.12545\ttest-rmse:2.31023\n",
            "[14000]\ttrain-rmse:1.11047\ttest-rmse:2.30897\n",
            "[14500]\ttrain-rmse:1.09622\ttest-rmse:2.30783\n",
            "[15000]\ttrain-rmse:1.08259\ttest-rmse:2.3066\n",
            "[15500]\ttrain-rmse:1.06927\ttest-rmse:2.30555\n",
            "[16000]\ttrain-rmse:1.05615\ttest-rmse:2.30459\n",
            "[16500]\ttrain-rmse:1.04361\ttest-rmse:2.30367\n",
            "[17000]\ttrain-rmse:1.03143\ttest-rmse:2.30281\n",
            "[17500]\ttrain-rmse:1.01944\ttest-rmse:2.30206\n",
            "[18000]\ttrain-rmse:1.00807\ttest-rmse:2.30139\n",
            "[18500]\ttrain-rmse:0.99697\ttest-rmse:2.30075\n",
            "[19000]\ttrain-rmse:0.985952\ttest-rmse:2.30009\n",
            "[19500]\ttrain-rmse:0.975428\ttest-rmse:2.29955\n",
            "[20000]\ttrain-rmse:0.965073\ttest-rmse:2.29906\n",
            "[20500]\ttrain-rmse:0.95511\ttest-rmse:2.29862\n",
            "[21000]\ttrain-rmse:0.945332\ttest-rmse:2.2982\n",
            "[21500]\ttrain-rmse:0.935791\ttest-rmse:2.29776\n",
            "[22000]\ttrain-rmse:0.92655\ttest-rmse:2.2974\n",
            "[22500]\ttrain-rmse:0.917656\ttest-rmse:2.29698\n",
            "[23000]\ttrain-rmse:0.908759\ttest-rmse:2.29661\n",
            "[23500]\ttrain-rmse:0.900097\ttest-rmse:2.29637\n",
            "[24000]\ttrain-rmse:0.891621\ttest-rmse:2.29611\n",
            "[24500]\ttrain-rmse:0.883407\ttest-rmse:2.29579\n",
            "[25000]\ttrain-rmse:0.875264\ttest-rmse:2.29549\n",
            "[25500]\ttrain-rmse:0.867299\ttest-rmse:2.29516\n",
            "[26000]\ttrain-rmse:0.859526\ttest-rmse:2.29495\n",
            "[26500]\ttrain-rmse:0.851792\ttest-rmse:2.2947\n",
            "best num_boost_rounds =  26925\n",
            "CPU times: user 1d 17h 1min 50s, sys: 43 s, total: 1d 17h 2min 33s\n",
            "Wall time: 20h 31min 44s\n"
          ],
          "name": "stdout"
        }
      ]
    },
    {
      "cell_type": "code",
      "metadata": {
        "id": "rU0B0z9fFgRy",
        "colab_type": "code",
        "colab": {}
      },
      "source": [
        "# 4. Permutation\n",
        "%%time\n",
        "from sklearn.inspection import permutation_importance\n",
        "r = permutation_importance(rf, X_val, y_val, n_repeats=30, random_state=0)\n",
        "\n",
        "for i in r.importances_mean.argsort()[::-1]:\n",
        "  if r.importances_mean[i] - 2*r.importances_std[i]>0:\n",
        "    print(f\"{X_train.feature_names[i]:<8}\"\n",
        "          f\"{r.importances_mean[i]:.3f}\"\n",
        "          f\" +/- {r.importances_std[i]:.3f}\")"
      ],
      "execution_count": null,
      "outputs": []
    },
    {
      "cell_type": "code",
      "metadata": {
        "id": "As8BmxRiVgLe",
        "colab_type": "code",
        "colab": {}
      },
      "source": [
        "# 5. catboosting\n",
        "# 각 모델에 대한 oof 정의\n",
        "n_splits= 5\n",
        "SEED = 1993\n",
        "\n",
        "target_col = '18~20_ride'\n",
        "drop_cols = ['date','id',target_col]\n",
        "train_label = train[target_col]\n",
        "\n",
        "from catboost import CatBoostRegressor\n",
        "\n",
        "cat_oof_train = np.zeros((train.shape[0]))\n",
        "cat_oof_test = np.zeros((test.shape[0]))\n",
        "\n",
        "# Kfold 정의\n",
        "kfolds = KFold(n_splits=n_splits, random_state=1993, shuffle=True)\n",
        "\n",
        "\n",
        "# Fold별로 학습진행\n",
        "for ind, (trn_ind, val_ind) in tqdm_notebook( enumerate( kfolds.split( X = train, y = train_label ) ) ):\n",
        "    \n",
        "    # Train/Valid-set을 정의하기\n",
        "    X_train , y_train = train.iloc[trn_ind].drop(drop_cols, 1), train_label[trn_ind]\n",
        "    X_valid , y_valid = train.iloc[val_ind].drop(drop_cols, 1), train_label[val_ind]\n",
        "    \n",
        "    # Target- Mean Encoding\n",
        "    X_train['label'] = y_train\n",
        "    d = X_train.groupby(['station_code'])['label'].mean().to_dict()\n",
        "    X_train['station_code_te'] = X_train['station_code'].apply(lambda x: d.get(x))\n",
        "    X_valid['station_code_te'] = X_valid['station_code'].apply(lambda x: d.get(x))\n",
        "    test['station_code_te'] = test['station_code'].apply(lambda x: d.get(x))\n",
        "    \n",
        "    X_train= X_train.drop('label',1)\n",
        "    \n",
        "    \n",
        "    # (5) CATBOOST\n",
        "    print(\"---TRAINING CATBOOST---\")\n",
        "    \n",
        "    # model 정의&학습\n",
        "    n_rounds = 100000\n",
        "    n_splits = 5\n",
        "\n",
        "    cat_params = {\n",
        "          'n_estimators': n_rounds,\n",
        "          'learning_rate': 0.05,\n",
        "          'eval_metric': 'RMSE',\n",
        "          'loss_function': 'RMSE',\n",
        "          'random_seed': 42,\n",
        "          'metric_period': 500,\n",
        "          'od_wait': 500,\n",
        "          'task_type': 'GPU',\n",
        "          'l2_leaf_reg' : 3,\n",
        "          'depth': 8 }\n",
        "\n",
        "    model = CatBoostRegressor(n_estimators= 100000, learning_rate=0.05, eval_metric='RMSE', loss_function= 'RMSE')\n",
        "    \n",
        "    model.fit( X_train, y_train, eval_set = (X_valid, y_valid))\n",
        "\n",
        "\n",
        "    # model.fit( X_train, y_train, eval_set = (X_valid, y_valid)) \n",
        "\n",
        "    \n",
        "    # local_valid/local_test에 대한 예측\n",
        "    cat_valid_pred = model.predict(X_valid)\n",
        "    cat_test_pred = model.predict(test.drop(drop_cols, 1))\n",
        "        \n",
        "    cat_oof_train[val_ind] = cat_valid_pred\n",
        "    cat_oof_test += cat_test_pred/ n_splits\n",
        "    print('='*80)\n",
        "    \n",
        "print(f\"<CATBOOST> OVERALL RMSE     : {sqrt( mean_squared_error( train_label, cat_oof_train ) )}\")"
      ],
      "execution_count": null,
      "outputs": []
    },
    {
      "cell_type": "code",
      "metadata": {
        "id": "MZXeuattPXTD",
        "colab_type": "code",
        "colab": {}
      },
      "source": [
        "# 6. Tpot\n",
        "!pip install tpot\n",
        "from tpot import TPOTRegressor\n",
        "\n",
        "X = train.drop(['id', 'date', 'is_test', '18~20_ride', 'bus_route_id','station_code','station_name'], axis=1)\n",
        "y = train['18~20_ride']\n",
        "X_test = test.drop(['id', 'date', 'is_test', 'bus_route_id','station_code','station_name', '18~20_ride', 'station_code_te'], axis=1)\n",
        "\n",
        "X_train, X_test, y_train, y_test = train_test_split(X, y, test_size=0.25, random_state=42)\n",
        "tpot = TPOTRegressor(generations=25, population_size=25, verbosity=2, random_state=42)\n",
        "tpot.fit(X_train, y_train)"
      ],
      "execution_count": null,
      "outputs": []
    },
    {
      "cell_type": "markdown",
      "metadata": {
        "id": "uvHll4IkhC2A",
        "colab_type": "text"
      },
      "source": [
        "## < Ensemble >\n",
        "- submission voting\n",
        "- Power mean"
      ]
    },
    {
      "cell_type": "code",
      "metadata": {
        "id": "qLdQRblW7Klq",
        "colab_type": "code",
        "colab": {}
      },
      "source": [
        "## voting(2등커널 활용)\n",
        "# Ensemble 1\n",
        "sample_submission = pd.read_csv('/content/drive/My Drive/Colab Notebooks/버스 승차인원 예측/data/submission_sample.csv')\n",
        "ensemble_pred = 0.5 * ( lgbm_oof_test+ s_pred )\n",
        "sample_submission[target_col] = np.clip( ensemble_pred, 0 , max(ensemble_pred) )\n",
        "sample_submission.to_csv('/content/drive/My Drive/Colab Notebooks/버스 승차인원 예측/submission/lgbm_2_ensemble.csv', index=False)\n",
        "\n",
        "# Ensemble 2\n",
        "s = pd.read_csv('/content/drive/My Drive/Colab Notebooks/버스 승차인원 예측/submission/lgb2nd.csv')\n",
        "s_pred = np.array(s['18~20_ride'].tolist())\n",
        "sample_submission = pd.read_csv('/content/drive/My Drive/Colab Notebooks/버스 승차인원 예측/data/submission_sample.csv')\n",
        "ensemble_pred =  0.2*lgbm_oof_test+ 0.8*s_pred \n",
        "sample_submission[target_col] = np.clip( ensemble_pred, 0 , max(ensemble_pred) )\n",
        "sample_submission.to_csv('/content/drive/My Drive/Colab Notebooks/버스 승차인원 예측/submission/lgbm_37_ensemble0816.csv', index=False)\n",
        "\n",
        "# Ensemble 3\n",
        "xgb = pd.read_csv('/content/drive/My Drive/Colab Notebooks/버스 승차인원 예측/submission/0813xgboost.csv')\n",
        "xgb_pred = np.array(xgb['18~20_ride'].tolist())\n",
        "sample_submission = pd.read_csv('/content/drive/My Drive/Colab Notebooks/버스 승차인원 예측/data/submission_sample.csv')\n",
        "ensemble_pred =  0.1*lgbm_oof_test+ 0.1*xgb_pred+ 0.8*s_pred \n",
        "sample_submission[target_col] = np.clip( ensemble_pred, 0 , max(ensemble_pred) )\n",
        "sample_submission.to_csv('/content/drive/My Drive/Colab Notebooks/버스 승차인원 예측/submission/lgbm_xgb_118_ensemble0816.csv', index=False)"
      ],
      "execution_count": null,
      "outputs": []
    },
    {
      "cell_type": "code",
      "metadata": {
        "id": "mLcY5BF1PXQS",
        "colab_type": "code",
        "colab": {}
      },
      "source": [
        "# Power Mean\n",
        "import pandas as pd\n",
        "import numpy as np\n",
        "import os\n",
        "\n",
        "folder = 'C:/Users/이다은/Desktop/BOAZ 14기/데이콘 프로젝트^ㅁ^/버스 승차량 예측/ensemble'\n",
        "\n",
        "nf = 0\n",
        "for f in os.listdir(folder):\n",
        "    ext = os.path.splitext(f)[-1]\n",
        "    if ext == '.csv': \n",
        "        s = pd.read_csv(folder+\"/\"+f)\n",
        "    else: \n",
        "        continue\n",
        "    if len(s.columns) !=2:\n",
        "        continue\n",
        "    if nf == 0: \n",
        "        slist = s\n",
        "    else: \n",
        "        slist = pd.merge(slist, s, on=\"id\")\n",
        "    nf += 1\n",
        "\n",
        "# 최적의 p값 = -139\n",
        "p = -139\n",
        "if nf >= 2:\n",
        "    pred = 0\n",
        "    for j in range(nf): pred = pred + slist.iloc[:,j+1]**p \n",
        "    pred = pred / nf    \n",
        "    pred = pred**(1/p)\n",
        "\n",
        "    submit = pd.DataFrame({'id': slist.id, '18~20_ride': pred})\n",
        "    t = pd.Timestamp.now()\n",
        "    fname = \"2번째0.5.csv\"\n",
        "    submit.to_csv(fname, index=False)\n",
        "    \n",
        "    print(fname)"
      ],
      "execution_count": null,
      "outputs": []
    },
    {
      "cell_type": "markdown",
      "metadata": {
        "id": "LYyGMIpVhM__",
        "colab_type": "text"
      },
      "source": [
        "최고성능 : 2.0518532656\t(RMSE)"
      ]
    }
  ]
}